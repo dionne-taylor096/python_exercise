{
 "cells": [
  {
   "cell_type": "code",
   "execution_count": null,
   "id": "7c90379b",
   "metadata": {},
   "outputs": [],
   "source": [
    "def is_two(x):\n",
    "    if x < 3 and x > 1:\n",
    "         print(\"True\")\n",
    "    elif x == '2':\n",
    "        print(\"True\")\n",
    "    else:\n",
    "        print(\"False\")"
   ]
  },
  {
   "cell_type": "code",
   "execution_count": null,
   "id": "0aaf3028",
   "metadata": {},
   "outputs": [],
   "source": [
    "is_two(4)"
   ]
  },
  {
   "cell_type": "code",
   "execution_count": null,
   "id": "1a8210f7",
   "metadata": {},
   "outputs": [],
   "source": [
    "def is_two(x):\n",
    "    return num == 2 or num == '2'"
   ]
  },
  {
   "cell_type": "code",
   "execution_count": null,
   "id": "409d2d7e",
   "metadata": {},
   "outputs": [],
   "source": [
    "is_two(5)"
   ]
  },
  {
   "cell_type": "code",
   "execution_count": null,
   "id": "fc94eadc",
   "metadata": {},
   "outputs": [],
   "source": [
    "vowel = ['a','e','i','o','u','A','E','I','O','U']\n",
    "\n",
    "value = str(input(\"Enter a letter, please: \"))\n",
    "\n",
    "def is_vowel(value):\n",
    "    return any(item in value for item in vowel)"
   ]
  },
  {
   "cell_type": "code",
   "execution_count": null,
   "id": "449ffe44",
   "metadata": {},
   "outputs": [],
   "source": [
    "is_vowel(value)"
   ]
  },
  {
   "cell_type": "code",
   "execution_count": null,
   "id": "df9de769",
   "metadata": {},
   "outputs": [],
   "source": [
    "type(vowel)"
   ]
  },
  {
   "cell_type": "code",
   "execution_count": null,
   "id": "0d9c21a3",
   "metadata": {},
   "outputs": [],
   "source": [
    "constanant = ['B', 'C', 'D', 'F', 'G', 'J', 'K', 'L', 'M', 'N', 'P', 'Q', 'S', 'T', 'V', 'X', 'Z', 'H', 'R', 'W', 'Y']\n",
    "\n",
    "x = str(input(\"Enter a letter, please: \"))\n",
    "\n",
    "def is_constanant(x):\n",
    "    return any(item in x for item in constanant)\n",
    "    return (x.isupper())\n",
    "    return (x.islower())"
   ]
  },
  {
   "cell_type": "code",
   "execution_count": null,
   "id": "974a830d",
   "metadata": {},
   "outputs": [],
   "source": [
    "is_constanant(x)"
   ]
  },
  {
   "cell_type": "code",
   "execution_count": null,
   "id": "3b7f4192",
   "metadata": {},
   "outputs": [],
   "source": [
    "y = 'lowercase'\n",
    "\n",
    "def word_capt(y):\n",
    "    return(y)\n",
    "print(y.capitalize())"
   ]
  },
  {
   "cell_type": "code",
   "execution_count": null,
   "id": "b934c69a",
   "metadata": {},
   "outputs": [],
   "source": [
    "tip = .20\n",
    "bill = 325.00\n",
    "tip_amount = bill * tip\n",
    "total = tip_amount + bill\n",
    "\n",
    "def calculate_tip(x):\n",
    "    return(tip_amount)"
   ]
  },
  {
   "cell_type": "code",
   "execution_count": null,
   "id": "99305de1",
   "metadata": {},
   "outputs": [],
   "source": [
    "calculate_tip(x)"
   ]
  },
  {
   "cell_type": "code",
   "execution_count": null,
   "id": "595e1076",
   "metadata": {},
   "outputs": [],
   "source": [
    "original_price = 345.00\n",
    "discount_percent = .20\n",
    "price = original_price - (original_price * discount_percent)\n",
    "\n",
    "def apply_discount(x):\n",
    "    return(price)"
   ]
  },
  {
   "cell_type": "code",
   "execution_count": null,
   "id": "631053a0",
   "metadata": {},
   "outputs": [],
   "source": [
    "apply_discount(x)"
   ]
  },
  {
   "cell_type": "code",
   "execution_count": null,
   "id": "c46c3092",
   "metadata": {},
   "outputs": [],
   "source": [
    "number_str = '1,000,000,000'\n",
    "new_str = number_str.replace(\",\",\"\")\n",
    "     \n",
    "def handle_commas(x):\n",
    "       return (new_str)"
   ]
  },
  {
   "cell_type": "code",
   "execution_count": null,
   "id": "db17f4d0",
   "metadata": {},
   "outputs": [],
   "source": [
    "handle_commas(x)"
   ]
  },
  {
   "cell_type": "code",
   "execution_count": null,
   "id": "c3b164ca",
   "metadata": {},
   "outputs": [],
   "source": [
    "def get_letter_grade (x):\n",
    "    if x >= 90: return 'A'\n",
    "    elif x >= 80: return 'B'\n",
    "    elif x >= 70: return 'C'\n",
    "    elif x >= 60: return 'D'\n",
    "    else: return 'F'"
   ]
  },
  {
   "cell_type": "code",
   "execution_count": null,
   "id": "30c1e0b8",
   "metadata": {},
   "outputs": [],
   "source": [
    "get_letter_grade (65)"
   ]
  },
  {
   "cell_type": "code",
   "execution_count": null,
   "id": "d7192463",
   "metadata": {},
   "outputs": [],
   "source": [
    "vowels = ['a','e','i','o','u','A','E','I','O','U']\n",
    "\n",
    "def remove_vowels(x):\n",
    "    return ''.join([item for item in x if item not in vowels])"
   ]
  },
  {
   "cell_type": "code",
   "execution_count": null,
   "id": "765e7bc1",
   "metadata": {},
   "outputs": [],
   "source": [
    "remove_vowels('Dionne Taylor')"
   ]
  },
  {
   "cell_type": "code",
   "execution_count": 403,
   "id": "b3871f29",
   "metadata": {},
   "outputs": [
    {
     "ename": "IndentationError",
     "evalue": "expected an indented block after 'if' statement on line 7 (3962066842.py, line 8)",
     "output_type": "error",
     "traceback": [
      "\u001b[0;36m  Cell \u001b[0;32mIn[403], line 8\u001b[0;36m\u001b[0m\n\u001b[0;31m    def normalize_name(x):\u001b[0m\n\u001b[0m                          ^\u001b[0m\n\u001b[0;31mIndentationError\u001b[0m\u001b[0;31m:\u001b[0m expected an indented block after 'if' statement on line 7\n"
     ]
    }
   ],
   "source": [
    "x = re.sub(\"[^A-Za-z]\",\"\",s)\n",
    "x = x.strip().lower()\n",
    "x = x.replace(' ','_')\n",
    "new_x = ''\n",
    "\n",
    "for let in x:\n",
    "    if let.isdigit() or isalpha():\n",
    "def normalize_name(x):\n",
    "    return(x)"
   ]
  },
  {
   "cell_type": "code",
   "execution_count": null,
   "id": "6a30d01b",
   "metadata": {},
   "outputs": [],
   "source": []
  }
 ],
 "metadata": {
  "kernelspec": {
   "display_name": "Python 3 (ipykernel)",
   "language": "python",
   "name": "python3"
  },
  "language_info": {
   "codemirror_mode": {
    "name": "ipython",
    "version": 3
   },
   "file_extension": ".py",
   "mimetype": "text/x-python",
   "name": "python",
   "nbconvert_exporter": "python",
   "pygments_lexer": "ipython3",
   "version": "3.11.0"
  }
 },
 "nbformat": 4,
 "nbformat_minor": 5
}
