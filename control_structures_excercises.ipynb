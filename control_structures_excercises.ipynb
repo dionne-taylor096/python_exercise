{
 "cells": [
  {
   "cell_type": "code",
   "execution_count": null,
   "id": "cb71b31c",
   "metadata": {},
   "outputs": [],
   "source": [
    "from platform import python_version\n",
    "print(python_version())"
   ]
  },
  {
   "cell_type": "markdown",
   "id": "35809a7a",
   "metadata": {},
   "source": [
    "# Question 1\n",
    "\n",
    "1. Conditional Basics\n",
    "\n",
    "- A. prompt the user for a day of the week, print out whether the day is Monday or not\n",
    "\n",
    "- B. prompt the user for a day of the week, print out whether the day is a weekday or a weekend\n",
    "\n",
    "- C. create variables and make up values for\n",
    "\n",
    "    - the number of hours worked in one week\n",
    "    - the hourly rate\n",
    "    - how much the week's paycheck will be\n",
    "    - write the python code that calculates the weekly paycheck. You get paid time and a half if you work more than 40 hours"
   ]
  },
  {
   "cell_type": "code",
   "execution_count": null,
   "id": "2f2c04b2",
   "metadata": {},
   "outputs": [],
   "source": [
    "weekday = ('Monday', 'Tuesday', 'Wednesday', 'Thursday', 'Friday')"
   ]
  },
  {
   "cell_type": "code",
   "execution_count": null,
   "id": "a560b7d6",
   "metadata": {},
   "outputs": [],
   "source": [
    "type(weekday)"
   ]
  },
  {
   "cell_type": "code",
   "execution_count": null,
   "id": "9b6e3cad",
   "metadata": {},
   "outputs": [],
   "source": [
    "weekend = ['Saturday', 'Sunday']"
   ]
  },
  {
   "cell_type": "code",
   "execution_count": null,
   "id": "7abf1b9f",
   "metadata": {},
   "outputs": [],
   "source": [
    "user_input = input(\"Please enter day of the week: \")\n",
    "\n",
    "def day_check(user_input):\n",
    "    return bool(user_input in weekend, weekday)\n",
    "\n",
    "if user_input in weekday == weekday:\n",
    "    print('Weekday', True)\n",
    "elif user_input in weekend == weekend:\n",
    "    print('Weekend', True)\n",
    "else:\n",
    "    print('Neither Weekend or Weekday', False)"
   ]
  },
  {
   "cell_type": "code",
   "execution_count": null,
   "id": "38cb1647",
   "metadata": {},
   "outputs": [],
   "source": [
    "hourly_rate = 70.00"
   ]
  },
  {
   "cell_type": "code",
   "execution_count": null,
   "id": "d1f9e755",
   "metadata": {},
   "outputs": [],
   "source": [
    "hourly_rate"
   ]
  },
  {
   "cell_type": "code",
   "execution_count": null,
   "id": "d4328a98",
   "metadata": {},
   "outputs": [],
   "source": [
    "num_hours_worked = 50"
   ]
  },
  {
   "cell_type": "code",
   "execution_count": null,
   "id": "86754e1c",
   "metadata": {},
   "outputs": [],
   "source": [
    "paycheck_total = hourly_rate * num_hours_worked"
   ]
  },
  {
   "cell_type": "code",
   "execution_count": null,
   "id": "a4088ead",
   "metadata": {},
   "outputs": [],
   "source": [
    "paycheck_total"
   ]
  },
  {
   "cell_type": "code",
   "execution_count": null,
   "id": "7039104e",
   "metadata": {},
   "outputs": [],
   "source": [
    "overtime_rate = (hourly_rate * .5) * num_hours_worked + paycheck_total"
   ]
  },
  {
   "cell_type": "code",
   "execution_count": null,
   "id": "6ff33ff6",
   "metadata": {},
   "outputs": [],
   "source": [
    "overtime_rate"
   ]
  },
  {
   "cell_type": "code",
   "execution_count": null,
   "id": "090110ba",
   "metadata": {},
   "outputs": [],
   "source": [
    "if num_hours_worked > 40:\n",
    "    print(\"You worked overtime and you final pay is: \", {overtime_rate})\n",
    "elif num_hours_worked < 40:\n",
    "    print(\"Your final pay is: \", {paycheck_total})"
   ]
  },
  {
   "cell_type": "markdown",
   "id": "1224ea2f",
   "metadata": {},
   "source": [
    "# 2. Loop Basics\n",
    "\n",
    "- A. While\n",
    "\n",
    "    - Create an integer variable i with a value of 5.\n",
    "    - Create a while loop that runs so long as i is less than or equal to 15\n",
    "    - Each loop iteration, output the current value of i, then increment i by one."
   ]
  },
  {
   "cell_type": "code",
   "execution_count": null,
   "id": "ebb68466",
   "metadata": {},
   "outputs": [],
   "source": [
    "i = 5\n",
    "while i <= 15:\n",
    "    print(i)\n",
    "    i = i+1"
   ]
  },
  {
   "cell_type": "code",
   "execution_count": 3,
   "id": "7c29700b",
   "metadata": {},
   "outputs": [
    {
     "name": "stdout",
     "output_type": "stream",
     "text": [
      "0\n",
      "2\n",
      "4\n",
      "6\n",
      "8\n",
      "10\n",
      "12\n",
      "14\n",
      "16\n",
      "18\n",
      "20\n",
      "22\n",
      "24\n",
      "26\n",
      "28\n",
      "30\n",
      "32\n",
      "34\n",
      "36\n",
      "38\n",
      "40\n",
      "42\n",
      "44\n",
      "46\n",
      "48\n",
      "50\n",
      "52\n",
      "54\n",
      "56\n",
      "58\n",
      "60\n",
      "62\n",
      "64\n",
      "66\n",
      "68\n",
      "70\n",
      "72\n",
      "74\n",
      "76\n",
      "78\n",
      "80\n",
      "82\n",
      "84\n",
      "86\n",
      "88\n",
      "90\n",
      "92\n",
      "94\n",
      "96\n",
      "98\n",
      "100\n"
     ]
    }
   ],
   "source": [
    "i = 0\n",
    "while i <= 100:\n",
    "    print(i)\n",
    "    i = i+2"
   ]
  },
  {
   "cell_type": "code",
   "execution_count": 8,
   "id": "0f1d4d7c",
   "metadata": {},
   "outputs": [
    {
     "name": "stdout",
     "output_type": "stream",
     "text": [
      "100\n",
      "95\n",
      "90\n",
      "85\n",
      "80\n",
      "75\n",
      "70\n",
      "65\n",
      "60\n",
      "55\n",
      "50\n",
      "45\n",
      "40\n",
      "35\n",
      "30\n",
      "25\n",
      "20\n",
      "15\n",
      "10\n",
      "5\n",
      "0\n",
      "-5\n",
      "-10\n"
     ]
    }
   ],
   "source": [
    "i = 100\n",
    "while i >= -10:\n",
    "    print(i)\n",
    "    i = i-5"
   ]
  },
  {
   "cell_type": "code",
   "execution_count": 24,
   "id": "f103eb46",
   "metadata": {},
   "outputs": [
    {
     "name": "stdout",
     "output_type": "stream",
     "text": [
      "2\n",
      "4\n",
      "16\n",
      "256\n",
      "65536\n"
     ]
    }
   ],
   "source": [
    "i = 2\n",
    "while i <= 1000000:\n",
    "    print(i)\n",
    "    i = i**2"
   ]
  },
  {
   "cell_type": "code",
   "execution_count": 25,
   "id": "aab4efd0",
   "metadata": {},
   "outputs": [
    {
     "name": "stdout",
     "output_type": "stream",
     "text": [
      "100\n",
      "95\n",
      "90\n",
      "85\n",
      "80\n",
      "75\n",
      "70\n",
      "65\n",
      "60\n",
      "55\n",
      "50\n",
      "45\n",
      "40\n",
      "35\n",
      "30\n",
      "25\n",
      "20\n",
      "15\n",
      "10\n",
      "5\n"
     ]
    }
   ],
   "source": [
    "i = 100\n",
    "while i >= 5:\n",
    "    print(i)\n",
    "    i = i-5"
   ]
  },
  {
   "cell_type": "markdown",
   "id": "f35c3696",
   "metadata": {},
   "source": [
    "# For Loops\n",
    "\n",
    "- i. Write some code that prompts the user for a number, then shows a multiplication table up through 10 for that number."
   ]
  },
  {
   "cell_type": "code",
   "execution_count": 288,
   "id": "57f4eead",
   "metadata": {},
   "outputs": [
    {
     "name": "stdout",
     "output_type": "stream",
     "text": [
      "Please enter a number from 1-10: 10\n",
      "10 x 1 = 10\n",
      "10 x 2 = 20\n",
      "10 x 3 = 30\n",
      "10 x 4 = 40\n",
      "10 x 5 = 50\n",
      "10 x 6 = 60\n",
      "10 x 7 = 70\n",
      "10 x 8 = 80\n",
      "10 x 9 = 90\n",
      "10 x 10 = 100\n"
     ]
    }
   ],
   "source": [
    "n = int(input(\"Please enter a number from 1-10: \"))\n",
    "for i in range (1, 11):\n",
    "     print (n, \"x\", i, \"=\", n * i)"
   ]
  },
  {
   "cell_type": "code",
   "execution_count": 241,
   "id": "ab2e0f02",
   "metadata": {},
   "outputs": [
    {
     "name": "stdout",
     "output_type": "stream",
     "text": [
      "\n",
      "1\n",
      "22\n",
      "333\n",
      "4444\n",
      "55555\n",
      "666666\n",
      "7777777\n",
      "88888888\n",
      "999999999\n"
     ]
    }
   ],
   "source": [
    " for i in range(n+1):\n",
    "        for num in range(1,i+1):\n",
    "            print(i,end=\"\")       \n",
    "        print(\"\")"
   ]
  },
  {
   "cell_type": "code",
   "execution_count": 289,
   "id": "1602102b",
   "metadata": {},
   "outputs": [
    {
     "name": "stdout",
     "output_type": "stream",
     "text": [
      "Please enter a number: 5\n",
      "5\n",
      "4\n",
      "3\n",
      "2\n",
      "1\n"
     ]
    }
   ],
   "source": [
    "t = int(input(\"Please enter a number: \"))\n",
    "for i in range (0, t):\n",
    "     print (t - i)"
   ]
  },
  {
   "cell_type": "code",
   "execution_count": 360,
   "id": "9ba6c310",
   "metadata": {},
   "outputs": [
    {
     "name": "stdout",
     "output_type": "stream",
     "text": [
      "Please enter a number: 4\n",
      "1\n",
      "2\n",
      "3\n",
      "4\n"
     ]
    }
   ],
   "source": [
    "s = int(input(\"Please enter a number: \"))\n",
    "for i in reversed(range(0, s)):\n",
    "     print(s - i)"
   ]
  },
  {
   "cell_type": "code",
   "execution_count": 429,
   "id": "fa26bd64",
   "metadata": {},
   "outputs": [
    {
     "name": "stdout",
     "output_type": "stream",
     "text": [
      "Enter a number between 1 - 50: 17\n",
      "Number to skip is: 17\n",
      "Here is a odd number 1\n",
      "Yikes! Skipping number 17\n",
      "Yikes! Skipping number 17\n",
      "Here is a odd number 3\n",
      "Yikes! Skipping number 17\n",
      "Yikes! Skipping number 17\n",
      "Here is a odd number 5\n",
      "Yikes! Skipping number 17\n",
      "Yikes! Skipping number 17\n",
      "Here is a odd number 7\n",
      "Yikes! Skipping number 17\n",
      "Yikes! Skipping number 17\n",
      "Here is a odd number 9\n",
      "Yikes! Skipping number 17\n",
      "Yikes! Skipping number 17\n",
      "Here is a odd number 11\n",
      "Yikes! Skipping number 17\n",
      "Yikes! Skipping number 17\n",
      "Here is a odd number 13\n",
      "Yikes! Skipping number 17\n",
      "Yikes! Skipping number 17\n",
      "Here is a odd number 15\n",
      "Yikes! Skipping number 17\n",
      "Yikes! Skipping number 17\n",
      "Here is a odd number 17\n",
      "Yikes! Skipping number 17\n",
      "Yikes! Skipping number 17\n",
      "Here is a odd number 19\n",
      "Yikes! Skipping number 17\n",
      "Yikes! Skipping number 17\n",
      "Here is a odd number 21\n",
      "Yikes! Skipping number 17\n",
      "Yikes! Skipping number 17\n",
      "Here is a odd number 23\n",
      "Yikes! Skipping number 17\n",
      "Yikes! Skipping number 17\n",
      "Here is a odd number 25\n",
      "Yikes! Skipping number 17\n",
      "Yikes! Skipping number 17\n",
      "Here is a odd number 27\n",
      "Yikes! Skipping number 17\n",
      "Yikes! Skipping number 17\n",
      "Here is a odd number 29\n",
      "Yikes! Skipping number 17\n",
      "Yikes! Skipping number 17\n",
      "Here is a odd number 31\n",
      "Yikes! Skipping number 17\n",
      "Yikes! Skipping number 17\n",
      "Here is a odd number 33\n",
      "Yikes! Skipping number 17\n",
      "Yikes! Skipping number 17\n",
      "Here is a odd number 35\n",
      "Yikes! Skipping number 17\n",
      "Yikes! Skipping number 17\n",
      "Here is a odd number 37\n",
      "Yikes! Skipping number 17\n",
      "Yikes! Skipping number 17\n",
      "Here is a odd number 39\n",
      "Yikes! Skipping number 17\n",
      "Yikes! Skipping number 17\n",
      "Here is a odd number 41\n",
      "Yikes! Skipping number 17\n",
      "Yikes! Skipping number 17\n",
      "Here is a odd number 43\n",
      "Yikes! Skipping number 17\n",
      "Yikes! Skipping number 17\n",
      "Here is a odd number 45\n",
      "Yikes! Skipping number 17\n",
      "Yikes! Skipping number 17\n",
      "Here is a odd number 47\n",
      "Yikes! Skipping number 17\n",
      "Yikes! Skipping number 17\n",
      "Here is a odd number 49\n",
      "Yikes! Skipping number 17\n"
     ]
    }
   ],
   "source": [
    "user_input = int(input(\"Enter a number between 1 - 50: \"))\n",
    "print(\"Number to skip is:\", user_input)\n",
    "for num in range(1, 50):\n",
    "    if num % 2 == 1:\n",
    "        print(\"Here is a odd number\", num)\n",
    "    else: \n",
    "        user_input == user_input\n",
    "    print(\"Yikes! Skipping number\", user_input)\n",
    "    continue\n",
    "    break"
   ]
  },
  {
   "cell_type": "code",
   "execution_count": null,
   "id": "d35c396f",
   "metadata": {},
   "outputs": [],
   "source": []
  },
  {
   "cell_type": "code",
   "execution_count": null,
   "id": "aed8b972",
   "metadata": {},
   "outputs": [],
   "source": []
  }
 ],
 "metadata": {
  "kernelspec": {
   "display_name": "Python 3 (ipykernel)",
   "language": "python",
   "name": "python3"
  },
  "language_info": {
   "codemirror_mode": {
    "name": "ipython",
    "version": 3
   },
   "file_extension": ".py",
   "mimetype": "text/x-python",
   "name": "python",
   "nbconvert_exporter": "python",
   "pygments_lexer": "ipython3",
   "version": "3.11.0"
  }
 },
 "nbformat": 4,
 "nbformat_minor": 5
}
