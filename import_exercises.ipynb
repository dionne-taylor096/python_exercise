{
 "cells": [
  {
   "cell_type": "code",
   "execution_count": null,
   "id": "142106b4",
   "metadata": {},
   "outputs": [],
   "source": [
    "from function_exercises import calculate_tip"
   ]
  },
  {
   "cell_type": "code",
   "execution_count": null,
   "id": "a51ecb71",
   "metadata": {},
   "outputs": [],
   "source": [
    "calculate_tip(340.00)"
   ]
  },
  {
   "cell_type": "code",
   "execution_count": null,
   "id": "0338ad80",
   "metadata": {},
   "outputs": [],
   "source": [
    "from function_exercises import get_letter_grade as glg"
   ]
  },
  {
   "cell_type": "code",
   "execution_count": null,
   "id": "4376f82d",
   "metadata": {},
   "outputs": [],
   "source": [
    "glg(65)"
   ]
  },
  {
   "cell_type": "code",
   "execution_count": null,
   "id": "c9f363bc",
   "metadata": {},
   "outputs": [],
   "source": [
    "import itertools\n",
    "\n",
    "letters = 'abc'\n",
    "numbers = '123'\n",
    "\n",
    "for combination in itertools.product(letters, numbers):\n",
    "    combined = combination[0] + str(combination[1])\n",
    "    print(combined)"
   ]
  },
  {
   "cell_type": "code",
   "execution_count": null,
   "id": "cea5284a",
   "metadata": {},
   "outputs": [],
   "source": [
    "len(list(itertools.product(letters, numbers)))"
   ]
  },
  {
   "cell_type": "code",
   "execution_count": null,
   "id": "70cae9c5",
   "metadata": {},
   "outputs": [],
   "source": [
    "import itertools\n",
    "\n",
    "letters = 'abcd'\n",
    "\n",
    "for combination in itertools.combinations(letters, 2):\n",
    "    print(''.join(combination))"
   ]
  },
  {
   "cell_type": "code",
   "execution_count": null,
   "id": "8a837d1e",
   "metadata": {},
   "outputs": [],
   "source": [
    "len(list(itertools.combinations(letters, 2)))"
   ]
  },
  {
   "cell_type": "code",
   "execution_count": null,
   "id": "a29d7b1e",
   "metadata": {},
   "outputs": [],
   "source": [
    "import itertools\n",
    "\n",
    "letters = 'abcd'\n",
    "\n",
    "for permutation in itertools.permutations(letters, 2):\n",
    "    print(''.join(permutation))\n"
   ]
  },
  {
   "cell_type": "code",
   "execution_count": null,
   "id": "18de0713",
   "metadata": {},
   "outputs": [],
   "source": [
    "len(list(itertools.permutations(letters, 2)))"
   ]
  },
  {
   "cell_type": "code",
   "execution_count": 6,
   "id": "5f1e418b",
   "metadata": {},
   "outputs": [],
   "source": [
    "import json\n",
    "\n",
    "datasets = json.load(open('profiles.json'))"
   ]
  },
  {
   "cell_type": "code",
   "execution_count": 7,
   "id": "34d94991",
   "metadata": {
    "scrolled": true
   },
   "outputs": [
    {
     "data": {
      "text/plain": [
       "list"
      ]
     },
     "execution_count": 7,
     "metadata": {},
     "output_type": "execute_result"
    }
   ],
   "source": [
    "type(datasets)"
   ]
  },
  {
   "cell_type": "code",
   "execution_count": 8,
   "id": "0b929cce",
   "metadata": {},
   "outputs": [
    {
     "data": {
      "text/plain": [
       "19"
      ]
     },
     "execution_count": 8,
     "metadata": {},
     "output_type": "execute_result"
    }
   ],
   "source": [
    "len(datasets)"
   ]
  },
  {
   "cell_type": "code",
   "execution_count": 9,
   "id": "1b537c38",
   "metadata": {},
   "outputs": [
    {
     "name": "stdout",
     "output_type": "stream",
     "text": [
      "False\n",
      "this user isnt active\n",
      "False\n",
      "this user isnt active\n",
      "True\n",
      "this user is active\n",
      "False\n",
      "this user isnt active\n",
      "False\n",
      "this user isnt active\n",
      "True\n",
      "this user is active\n",
      "False\n",
      "this user isnt active\n",
      "False\n",
      "this user isnt active\n",
      "False\n",
      "this user isnt active\n",
      "True\n",
      "this user is active\n",
      "True\n",
      "this user is active\n",
      "True\n",
      "this user is active\n",
      "False\n",
      "this user isnt active\n",
      "True\n",
      "this user is active\n",
      "True\n",
      "this user is active\n",
      "False\n",
      "this user isnt active\n",
      "False\n",
      "this user isnt active\n",
      "True\n",
      "this user is active\n",
      "True\n",
      "this user is active\n",
      "Inactive users:  {10}\n",
      "Active user:  {9}\n",
      "Total users:  {19}\n"
     ]
    }
   ],
   "source": [
    "countA = 0\n",
    "countI = 0\n",
    "\n",
    "for dataset in datasets:\n",
    "    print(dataset['isActive'])\n",
    "    \n",
    "    if dataset['isActive']:\n",
    "        #print to ensure it's catching the active people\n",
    "        print('this user is active')\n",
    "        countA += 1\n",
    "    else:\n",
    "        print('this user isnt active')\n",
    "        countI += 1\n",
    "        \n",
    "#print out the final count\n",
    "count = countA + countI\n",
    "print(\"Inactive users: \", {countI})\n",
    "print(\"Active user: \", {countA})\n",
    "print(\"Total users: \", {count})\n",
    "\n"
   ]
  },
  {
   "cell_type": "code",
   "execution_count": 12,
   "id": "dd7c3aa3",
   "metadata": {},
   "outputs": [
    {
     "data": {
      "text/plain": [
       "list"
      ]
     },
     "execution_count": 12,
     "metadata": {},
     "output_type": "execute_result"
    }
   ],
   "source": [
    "type(datasets)"
   ]
  },
  {
   "cell_type": "code",
   "execution_count": null,
   "id": "cdef9c70",
   "metadata": {},
   "outputs": [],
   "source": [
    "import pandas as pd"
   ]
  },
  {
   "cell_type": "code",
   "execution_count": 18,
   "id": "ffdda9c9",
   "metadata": {},
   "outputs": [
    {
     "name": "stdout",
     "output_type": "stream",
     "text": [
      "2097.02\n",
      "3654.02\n",
      "1536.02\n",
      "3919.64\n",
      "3681.39\n",
      "1694.42\n",
      "1214.1\n",
      "2930.31\n",
      "1944.15\n",
      "2839.22\n",
      "2467.31\n",
      "3304.99\n",
      "3844.42\n",
      "3594.99\n",
      "2940.24\n",
      "3062.41\n",
      "3067.82\n",
      "2646.76\n",
      "2227.79\n"
     ]
    },
    {
     "data": {
      "text/plain": [
       "52667.02"
      ]
     },
     "execution_count": 18,
     "metadata": {},
     "output_type": "execute_result"
    }
   ],
   "source": [
    "balance_total = 0\n",
    "\n",
    "for dataset in datasets:\n",
    "    bal = float(dataset['balance'].strip('$').replace(',',''))\n",
    "    print(bal)\n",
    "    balance_total += bal\n",
    "\n",
    "balance_total"
   ]
  },
  {
   "cell_type": "code",
   "execution_count": 45,
   "id": "f9f36cac",
   "metadata": {},
   "outputs": [
    {
     "data": {
      "text/plain": [
       "2771.95"
      ]
     },
     "execution_count": 45,
     "metadata": {},
     "output_type": "execute_result"
    }
   ],
   "source": [
    "round(balance_total / len(datasets),2)"
   ]
  },
  {
   "cell_type": "code",
   "execution_count": 46,
   "id": "70a42a7e",
   "metadata": {},
   "outputs": [
    {
     "data": {
      "text/plain": [
       "[2097.02,\n",
       " 3654.02,\n",
       " 1536.02,\n",
       " 3919.64,\n",
       " 3681.39,\n",
       " 1694.42,\n",
       " 1214.1,\n",
       " 2930.31,\n",
       " 1944.15,\n",
       " 2839.22,\n",
       " 2467.31,\n",
       " 3304.99,\n",
       " 3844.42,\n",
       " 3594.99,\n",
       " 2940.24,\n",
       " 3062.41,\n",
       " 3067.82,\n",
       " 2646.76,\n",
       " 2227.79]"
      ]
     },
     "execution_count": 46,
     "metadata": {},
     "output_type": "execute_result"
    }
   ],
   "source": [
    "balance_lowest = []\n",
    "\n",
    "#putting all my cleaned balances in a list\n",
    "for dataset in datasets:\n",
    "    bal = dataset['balance'].strip('$').replace(',','')\n",
    "    bal = float(bal)\n",
    "    balance_lowest.append(bal)\n",
    "\n",
    "balance_lowest\n",
    "\n"
   ]
  },
  {
   "cell_type": "code",
   "execution_count": 47,
   "id": "29b85459",
   "metadata": {},
   "outputs": [
    {
     "data": {
      "text/plain": [
       "3919.64"
      ]
     },
     "execution_count": 47,
     "metadata": {},
     "output_type": "execute_result"
    }
   ],
   "source": [
    "max(balance_lowest)"
   ]
  },
  {
   "cell_type": "code",
   "execution_count": 40,
   "id": "6dd87be8",
   "metadata": {},
   "outputs": [
    {
     "data": {
      "text/plain": [
       "1214.1"
      ]
     },
     "execution_count": 40,
     "metadata": {},
     "output_type": "execute_result"
    }
   ],
   "source": [
    "min(balance_lowest)"
   ]
  },
  {
   "cell_type": "code",
   "execution_count": 36,
   "id": "2dd1eaf2",
   "metadata": {},
   "outputs": [
    {
     "name": "stdout",
     "output_type": "stream",
     "text": [
      "This user has the lower balance: \n",
      "Avery Flynn 1214.1\n"
     ]
    }
   ],
   "source": [
    "balance_lowest = min(balance_lowest)\n",
    "\n",
    "for dataset in datasets:\n",
    "    bal = float(dataset['balance'].strip('$').replace(',',''))\n",
    "    \n",
    "    #find where the min balance calcaulted equals the balance of a user\n",
    "    if bal == balance_lowest:\n",
    "        print('This user has the lower balance: ')\n",
    "        print(dataset['name'], balance_lowest)\n",
    "\n"
   ]
  },
  {
   "cell_type": "code",
   "execution_count": 48,
   "id": "1e6bd9aa",
   "metadata": {},
   "outputs": [
    {
     "name": "stdout",
     "output_type": "stream",
     "text": [
      "This user has the lower balance: \n",
      "Fay Hammond 3919.64\n"
     ]
    }
   ],
   "source": [
    "balance_highest = max(balance_lowest)\n",
    "\n",
    "for dataset in datasets:\n",
    "    bal = float(dataset['balance'].strip('$').replace(',',''))\n",
    "    \n",
    "    #find where the min balance calcaulted equals the balance of a user\n",
    "    if bal == balance_highest:\n",
    "        print('This user has the lower balance: ')\n",
    "        print(dataset['name'], balance_highest)"
   ]
  },
  {
   "cell_type": "code",
   "execution_count": 26,
   "id": "637ad8c5",
   "metadata": {
    "scrolled": true
   },
   "outputs": [
    {
     "data": {
      "text/plain": [
       "{'_id': '54e23c3ed945981ba2580614',\n",
       " 'index': 18,\n",
       " 'guid': 'e608dc5c-fee4-4086-971b-3ebd37bfa137',\n",
       " 'isActive': True,\n",
       " 'balance': '$2,227.79',\n",
       " 'picture': 'http://placehold.it/32x32',\n",
       " 'age': 22,\n",
       " 'eyeColor': 'brown',\n",
       " 'name': 'Ewing Larson',\n",
       " 'gender': 'male',\n",
       " 'company': 'ESCENTA',\n",
       " 'email': 'ewinglarson@escenta.com',\n",
       " 'phone': '+1 (943) 439-3760',\n",
       " 'address': '136 Beard Street, Wattsville, New Hampshire, 2803',\n",
       " 'about': 'Veniam eiusmod exercitation culpa mollit reprehenderit ullamco voluptate voluptate irure qui duis anim et. Laborum dolor quis do voluptate. In pariatur dolor id mollit et enim. Qui ex qui in cillum irure enim non reprehenderit irure et excepteur aliquip eu eu.\\r\\n',\n",
       " 'registered': '2014-07-21T19:17:41 +05:00',\n",
       " 'latitude': 15.903555,\n",
       " 'longitude': -159.721203,\n",
       " 'tags': ['Lorem',\n",
       "  'magna',\n",
       "  'dolor',\n",
       "  'aliquip',\n",
       "  'reprehenderit',\n",
       "  'eu',\n",
       "  'voluptate'],\n",
       " 'friends': [{'id': 0, 'name': 'Suzette Huffman'},\n",
       "  {'id': 1, 'name': 'Paige Santiago'},\n",
       "  {'id': 2, 'name': 'Dollie Fernandez'}],\n",
       " 'greeting': 'Hello, Ewing Larson! You have 16 unread messages.',\n",
       " 'favoriteFruit': 'strawberry'}"
      ]
     },
     "execution_count": 26,
     "metadata": {},
     "output_type": "execute_result"
    }
   ],
   "source": [
    "dataset"
   ]
  },
  {
   "cell_type": "code",
   "execution_count": 49,
   "id": "605e3b27",
   "metadata": {},
   "outputs": [
    {
     "data": {
      "text/plain": [
       "['strawberry',\n",
       " 'apple',\n",
       " 'apple',\n",
       " 'banana',\n",
       " 'apple',\n",
       " 'apple',\n",
       " 'banana',\n",
       " 'strawberry',\n",
       " 'strawberry',\n",
       " 'banana',\n",
       " 'strawberry',\n",
       " 'strawberry',\n",
       " 'apple',\n",
       " 'strawberry',\n",
       " 'strawberry',\n",
       " 'banana',\n",
       " 'strawberry',\n",
       " 'apple',\n",
       " 'strawberry']"
      ]
     },
     "execution_count": 49,
     "metadata": {},
     "output_type": "execute_result"
    }
   ],
   "source": [
    "fruits = []\n",
    "\n",
    "for dataset in datasets:\n",
    "    fruits.append(dataset['favoriteFruit'])\n",
    "    \n",
    "fruits\n",
    "\n"
   ]
  },
  {
   "cell_type": "code",
   "execution_count": 50,
   "id": "41a1f191",
   "metadata": {},
   "outputs": [
    {
     "data": {
      "text/plain": [
       "{'apple', 'banana', 'strawberry'}"
      ]
     },
     "execution_count": 50,
     "metadata": {},
     "output_type": "execute_result"
    }
   ],
   "source": [
    "set(fruits)"
   ]
  },
  {
   "cell_type": "code",
   "execution_count": 51,
   "id": "7f726d21",
   "metadata": {},
   "outputs": [
    {
     "data": {
      "text/plain": [
       "6"
      ]
     },
     "execution_count": 51,
     "metadata": {},
     "output_type": "execute_result"
    }
   ],
   "source": [
    "fruits.count('apple')"
   ]
  },
  {
   "cell_type": "code",
   "execution_count": 52,
   "id": "ea441c64",
   "metadata": {},
   "outputs": [
    {
     "data": {
      "text/plain": [
       "4"
      ]
     },
     "execution_count": 52,
     "metadata": {},
     "output_type": "execute_result"
    }
   ],
   "source": [
    "fruits.count('banana')"
   ]
  },
  {
   "cell_type": "code",
   "execution_count": 53,
   "id": "e1630571",
   "metadata": {},
   "outputs": [
    {
     "data": {
      "text/plain": [
       "9"
      ]
     },
     "execution_count": 53,
     "metadata": {},
     "output_type": "execute_result"
    }
   ],
   "source": [
    "fruits.count('strawberry')"
   ]
  },
  {
   "cell_type": "code",
   "execution_count": 54,
   "id": "8fc8ee39",
   "metadata": {},
   "outputs": [
    {
     "data": {
      "text/plain": [
       "'strawberry'"
      ]
     },
     "execution_count": 54,
     "metadata": {},
     "output_type": "execute_result"
    }
   ],
   "source": [
    "max(fruits, key=fruits.count)"
   ]
  },
  {
   "cell_type": "code",
   "execution_count": 55,
   "id": "c6cfb5fb",
   "metadata": {},
   "outputs": [
    {
     "data": {
      "text/plain": [
       "'banana'"
      ]
     },
     "execution_count": 55,
     "metadata": {},
     "output_type": "execute_result"
    }
   ],
   "source": [
    "min(fruits, key=fruits.count)"
   ]
  },
  {
   "cell_type": "code",
   "execution_count": 59,
   "id": "ef45d5cf",
   "metadata": {},
   "outputs": [
    {
     "data": {
      "text/plain": [
       "210"
      ]
     },
     "execution_count": 59,
     "metadata": {},
     "output_type": "execute_result"
    }
   ],
   "source": [
    "total_unread_message = 0\n",
    "\n",
    "for dataset in datasets:\n",
    "    message = dataset['greeting']\n",
    "    message_count_lowest = message.split(' ')\n",
    "    for word in message_count_lowest:\n",
    "        if word.isdigit():\n",
    "            total_unread_message += int(word)\n",
    "total_unread_message"
   ]
  },
  {
   "cell_type": "code",
   "execution_count": null,
   "id": "be3de399",
   "metadata": {},
   "outputs": [],
   "source": []
  }
 ],
 "metadata": {
  "kernelspec": {
   "display_name": "Python 3 (ipykernel)",
   "language": "python",
   "name": "python3"
  },
  "language_info": {
   "codemirror_mode": {
    "name": "ipython",
    "version": 3
   },
   "file_extension": ".py",
   "mimetype": "text/x-python",
   "name": "python",
   "nbconvert_exporter": "python",
   "pygments_lexer": "ipython3",
   "version": "3.10.8"
  }
 },
 "nbformat": 4,
 "nbformat_minor": 5
}
